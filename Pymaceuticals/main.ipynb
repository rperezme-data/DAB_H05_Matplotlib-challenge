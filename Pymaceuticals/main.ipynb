{
 "cells": [
  {
   "cell_type": "markdown",
   "metadata": {},
   "source": [
    "# Pymaceuticals\n",
    "### Data Analysis of... "
   ]
  },
  {
   "cell_type": "markdown",
   "metadata": {},
   "source": [
    "## Observations and Insights \n",
    "\n",
    "* Box Plot shows that Capomulin is effective since initial tumor volume = 45, compact box, no outliers...\n",
    "* Sample mouse line plot tumor volume decreases along time...\n",
    "* Tumor volume has a strong correlation with weight\n",
    "* Regression..."
   ]
  },
  {
   "cell_type": "markdown",
   "metadata": {},
   "source": []
  },
  {
   "cell_type": "code",
   "execution_count": 1,
   "metadata": {},
   "outputs": [
    {
     "data": {
      "text/html": [
       "<div>\n",
       "<style scoped>\n",
       "    .dataframe tbody tr th:only-of-type {\n",
       "        vertical-align: middle;\n",
       "    }\n",
       "\n",
       "    .dataframe tbody tr th {\n",
       "        vertical-align: top;\n",
       "    }\n",
       "\n",
       "    .dataframe thead th {\n",
       "        text-align: right;\n",
       "    }\n",
       "</style>\n",
       "<table border=\"1\" class=\"dataframe\">\n",
       "  <thead>\n",
       "    <tr style=\"text-align: right;\">\n",
       "      <th></th>\n",
       "      <th>Mouse ID</th>\n",
       "      <th>Timepoint</th>\n",
       "      <th>Tumor Volume (mm3)</th>\n",
       "      <th>Metastatic Sites</th>\n",
       "      <th>Drug Regimen</th>\n",
       "      <th>Sex</th>\n",
       "      <th>Age_months</th>\n",
       "      <th>Weight (g)</th>\n",
       "    </tr>\n",
       "  </thead>\n",
       "  <tbody>\n",
       "    <tr>\n",
       "      <th>0</th>\n",
       "      <td>b128</td>\n",
       "      <td>0</td>\n",
       "      <td>45.0</td>\n",
       "      <td>0</td>\n",
       "      <td>Capomulin</td>\n",
       "      <td>Female</td>\n",
       "      <td>9</td>\n",
       "      <td>22</td>\n",
       "    </tr>\n",
       "    <tr>\n",
       "      <th>1</th>\n",
       "      <td>f932</td>\n",
       "      <td>0</td>\n",
       "      <td>45.0</td>\n",
       "      <td>0</td>\n",
       "      <td>Ketapril</td>\n",
       "      <td>Male</td>\n",
       "      <td>15</td>\n",
       "      <td>29</td>\n",
       "    </tr>\n",
       "    <tr>\n",
       "      <th>2</th>\n",
       "      <td>g107</td>\n",
       "      <td>0</td>\n",
       "      <td>45.0</td>\n",
       "      <td>0</td>\n",
       "      <td>Ketapril</td>\n",
       "      <td>Female</td>\n",
       "      <td>2</td>\n",
       "      <td>29</td>\n",
       "    </tr>\n",
       "    <tr>\n",
       "      <th>3</th>\n",
       "      <td>a457</td>\n",
       "      <td>0</td>\n",
       "      <td>45.0</td>\n",
       "      <td>0</td>\n",
       "      <td>Ketapril</td>\n",
       "      <td>Female</td>\n",
       "      <td>11</td>\n",
       "      <td>30</td>\n",
       "    </tr>\n",
       "    <tr>\n",
       "      <th>4</th>\n",
       "      <td>c819</td>\n",
       "      <td>0</td>\n",
       "      <td>45.0</td>\n",
       "      <td>0</td>\n",
       "      <td>Ketapril</td>\n",
       "      <td>Male</td>\n",
       "      <td>21</td>\n",
       "      <td>25</td>\n",
       "    </tr>\n",
       "  </tbody>\n",
       "</table>\n",
       "</div>"
      ],
      "text/plain": [
       "  Mouse ID  Timepoint  Tumor Volume (mm3)  Metastatic Sites Drug Regimen  \\\n",
       "0     b128          0                45.0                 0    Capomulin   \n",
       "1     f932          0                45.0                 0     Ketapril   \n",
       "2     g107          0                45.0                 0     Ketapril   \n",
       "3     a457          0                45.0                 0     Ketapril   \n",
       "4     c819          0                45.0                 0     Ketapril   \n",
       "\n",
       "      Sex  Age_months  Weight (g)  \n",
       "0  Female           9          22  \n",
       "1    Male          15          29  \n",
       "2  Female           2          29  \n",
       "3  Female          11          30  \n",
       "4    Male          21          25  "
      ]
     },
     "execution_count": 1,
     "metadata": {},
     "output_type": "execute_result"
    }
   ],
   "source": [
    "# Dependencies and Setup\n",
    "import matplotlib.pyplot as plt\n",
    "import pandas as pd\n",
    "import scipy.stats as stats\n",
    "\n",
    "# Study data files\n",
    "mouse_metadata_path = \"data/Mouse_metadata.csv\"\n",
    "study_results_path = \"data/Study_results.csv\"\n",
    "\n",
    "# Read the mouse data and the study results\n",
    "mouse_metadata = pd.read_csv(mouse_metadata_path)\n",
    "study_results = pd.read_csv(study_results_path)\n",
    "\n",
    "# Combine the data into a single dataset\n",
    "analysis_data = study_results.merge(mouse_metadata, how='left', on=['Mouse ID'])\n",
    "\n",
    "# Display the data table for preview\n",
    "analysis_data.head()"
   ]
  },
  {
   "cell_type": "code",
   "execution_count": 2,
   "metadata": {},
   "outputs": [
    {
     "name": "stdout",
     "output_type": "stream",
     "text": [
      "Number of mice: 249\n"
     ]
    }
   ],
   "source": [
    "# Checking the number of mice.\n",
    "mouse_num = len(analysis_data['Mouse ID'].unique())\n",
    "print(f\"Number of mice: {mouse_num}\")"
   ]
  },
  {
   "cell_type": "code",
   "execution_count": 3,
   "metadata": {},
   "outputs": [
    {
     "name": "stdout",
     "output_type": "stream",
     "text": [
      "Duplicate mice ID (for Mouse ID and Timepoint): ['g989']\n"
     ]
    }
   ],
   "source": [
    "# Getting the duplicate mice by ID number that shows up for Mouse ID and Timepoint. \n",
    "duplicate_mice = analysis_data['Mouse ID'].loc[analysis_data.duplicated(['Mouse ID', 'Timepoint'])].unique()\n",
    "print(f\"Duplicate mice ID (for Mouse ID and Timepoint): {duplicate_mice}\")"
   ]
  },
  {
   "cell_type": "code",
   "execution_count": 4,
   "metadata": {},
   "outputs": [
    {
     "name": "stdout",
     "output_type": "stream",
     "text": [
      "Data for duplicate mice:\n"
     ]
    },
    {
     "data": {
      "text/html": [
       "<div>\n",
       "<style scoped>\n",
       "    .dataframe tbody tr th:only-of-type {\n",
       "        vertical-align: middle;\n",
       "    }\n",
       "\n",
       "    .dataframe tbody tr th {\n",
       "        vertical-align: top;\n",
       "    }\n",
       "\n",
       "    .dataframe thead th {\n",
       "        text-align: right;\n",
       "    }\n",
       "</style>\n",
       "<table border=\"1\" class=\"dataframe\">\n",
       "  <thead>\n",
       "    <tr style=\"text-align: right;\">\n",
       "      <th></th>\n",
       "      <th>Mouse ID</th>\n",
       "      <th>Timepoint</th>\n",
       "      <th>Tumor Volume (mm3)</th>\n",
       "      <th>Metastatic Sites</th>\n",
       "      <th>Drug Regimen</th>\n",
       "      <th>Sex</th>\n",
       "      <th>Age_months</th>\n",
       "      <th>Weight (g)</th>\n",
       "    </tr>\n",
       "  </thead>\n",
       "  <tbody>\n",
       "    <tr>\n",
       "      <th>137</th>\n",
       "      <td>g989</td>\n",
       "      <td>0</td>\n",
       "      <td>45.000000</td>\n",
       "      <td>0</td>\n",
       "      <td>Propriva</td>\n",
       "      <td>Female</td>\n",
       "      <td>21</td>\n",
       "      <td>26</td>\n",
       "    </tr>\n",
       "    <tr>\n",
       "      <th>360</th>\n",
       "      <td>g989</td>\n",
       "      <td>5</td>\n",
       "      <td>47.570392</td>\n",
       "      <td>0</td>\n",
       "      <td>Propriva</td>\n",
       "      <td>Female</td>\n",
       "      <td>21</td>\n",
       "      <td>26</td>\n",
       "    </tr>\n",
       "    <tr>\n",
       "      <th>681</th>\n",
       "      <td>g989</td>\n",
       "      <td>10</td>\n",
       "      <td>49.880528</td>\n",
       "      <td>0</td>\n",
       "      <td>Propriva</td>\n",
       "      <td>Female</td>\n",
       "      <td>21</td>\n",
       "      <td>26</td>\n",
       "    </tr>\n",
       "    <tr>\n",
       "      <th>869</th>\n",
       "      <td>g989</td>\n",
       "      <td>15</td>\n",
       "      <td>53.442020</td>\n",
       "      <td>0</td>\n",
       "      <td>Propriva</td>\n",
       "      <td>Female</td>\n",
       "      <td>21</td>\n",
       "      <td>26</td>\n",
       "    </tr>\n",
       "    <tr>\n",
       "      <th>1111</th>\n",
       "      <td>g989</td>\n",
       "      <td>20</td>\n",
       "      <td>54.657650</td>\n",
       "      <td>1</td>\n",
       "      <td>Propriva</td>\n",
       "      <td>Female</td>\n",
       "      <td>21</td>\n",
       "      <td>26</td>\n",
       "    </tr>\n",
       "  </tbody>\n",
       "</table>\n",
       "</div>"
      ],
      "text/plain": [
       "     Mouse ID  Timepoint  Tumor Volume (mm3)  Metastatic Sites Drug Regimen  \\\n",
       "137      g989          0           45.000000                 0     Propriva   \n",
       "360      g989          5           47.570392                 0     Propriva   \n",
       "681      g989         10           49.880528                 0     Propriva   \n",
       "869      g989         15           53.442020                 0     Propriva   \n",
       "1111     g989         20           54.657650                 1     Propriva   \n",
       "\n",
       "         Sex  Age_months  Weight (g)  \n",
       "137   Female          21          26  \n",
       "360   Female          21          26  \n",
       "681   Female          21          26  \n",
       "869   Female          21          26  \n",
       "1111  Female          21          26  "
      ]
     },
     "execution_count": 4,
     "metadata": {},
     "output_type": "execute_result"
    }
   ],
   "source": [
    "# Optional: Get all the data for the duplicate mouse ID.\n",
    "print(\"Data for duplicate mice:\")\n",
    "analysis_data.loc[analysis_data.duplicated(['Mouse ID', 'Timepoint'])]"
   ]
  },
  {
   "cell_type": "code",
   "execution_count": 5,
   "metadata": {},
   "outputs": [
    {
     "data": {
      "text/html": [
       "<div>\n",
       "<style scoped>\n",
       "    .dataframe tbody tr th:only-of-type {\n",
       "        vertical-align: middle;\n",
       "    }\n",
       "\n",
       "    .dataframe tbody tr th {\n",
       "        vertical-align: top;\n",
       "    }\n",
       "\n",
       "    .dataframe thead th {\n",
       "        text-align: right;\n",
       "    }\n",
       "</style>\n",
       "<table border=\"1\" class=\"dataframe\">\n",
       "  <thead>\n",
       "    <tr style=\"text-align: right;\">\n",
       "      <th></th>\n",
       "      <th>Mouse ID</th>\n",
       "      <th>Timepoint</th>\n",
       "      <th>Tumor Volume (mm3)</th>\n",
       "      <th>Metastatic Sites</th>\n",
       "      <th>Drug Regimen</th>\n",
       "      <th>Sex</th>\n",
       "      <th>Age_months</th>\n",
       "      <th>Weight (g)</th>\n",
       "    </tr>\n",
       "  </thead>\n",
       "  <tbody>\n",
       "    <tr>\n",
       "      <th>0</th>\n",
       "      <td>a203</td>\n",
       "      <td>0</td>\n",
       "      <td>45.000000</td>\n",
       "      <td>0</td>\n",
       "      <td>Infubinol</td>\n",
       "      <td>Female</td>\n",
       "      <td>20</td>\n",
       "      <td>23</td>\n",
       "    </tr>\n",
       "    <tr>\n",
       "      <th>1</th>\n",
       "      <td>a203</td>\n",
       "      <td>5</td>\n",
       "      <td>48.508468</td>\n",
       "      <td>0</td>\n",
       "      <td>Infubinol</td>\n",
       "      <td>Female</td>\n",
       "      <td>20</td>\n",
       "      <td>23</td>\n",
       "    </tr>\n",
       "    <tr>\n",
       "      <th>2</th>\n",
       "      <td>a203</td>\n",
       "      <td>10</td>\n",
       "      <td>51.852437</td>\n",
       "      <td>1</td>\n",
       "      <td>Infubinol</td>\n",
       "      <td>Female</td>\n",
       "      <td>20</td>\n",
       "      <td>23</td>\n",
       "    </tr>\n",
       "    <tr>\n",
       "      <th>3</th>\n",
       "      <td>a203</td>\n",
       "      <td>15</td>\n",
       "      <td>52.777870</td>\n",
       "      <td>1</td>\n",
       "      <td>Infubinol</td>\n",
       "      <td>Female</td>\n",
       "      <td>20</td>\n",
       "      <td>23</td>\n",
       "    </tr>\n",
       "    <tr>\n",
       "      <th>4</th>\n",
       "      <td>a203</td>\n",
       "      <td>20</td>\n",
       "      <td>55.173336</td>\n",
       "      <td>1</td>\n",
       "      <td>Infubinol</td>\n",
       "      <td>Female</td>\n",
       "      <td>20</td>\n",
       "      <td>23</td>\n",
       "    </tr>\n",
       "  </tbody>\n",
       "</table>\n",
       "</div>"
      ],
      "text/plain": [
       "  Mouse ID  Timepoint  Tumor Volume (mm3)  Metastatic Sites Drug Regimen  \\\n",
       "0     a203          0           45.000000                 0    Infubinol   \n",
       "1     a203          5           48.508468                 0    Infubinol   \n",
       "2     a203         10           51.852437                 1    Infubinol   \n",
       "3     a203         15           52.777870                 1    Infubinol   \n",
       "4     a203         20           55.173336                 1    Infubinol   \n",
       "\n",
       "      Sex  Age_months  Weight (g)  \n",
       "0  Female          20          23  \n",
       "1  Female          20          23  \n",
       "2  Female          20          23  \n",
       "3  Female          20          23  \n",
       "4  Female          20          23  "
      ]
     },
     "execution_count": 5,
     "metadata": {},
     "output_type": "execute_result"
    }
   ],
   "source": [
    "# Create a clean DataFrame by dropping the duplicate mouse by its ID.\n",
    "clean_data = analysis_data.drop_duplicates(['Mouse ID', 'Timepoint'], keep='first')\n",
    "## Sort values by Mouse ID & Timepoint (alphabetical order)\n",
    "clean_data = clean_data.sort_values(['Mouse ID','Timepoint'], ascending=True)\n",
    "## Reset Index\n",
    "clean_data = clean_data.reset_index(drop=True)\n",
    "## Display Analysis DataFrame (preview)\n",
    "clean_data.head()"
   ]
  },
  {
   "cell_type": "code",
   "execution_count": 6,
   "metadata": {},
   "outputs": [
    {
     "name": "stdout",
     "output_type": "stream",
     "text": [
      "Number of mice: 249\n"
     ]
    }
   ],
   "source": [
    "# Checking the number of mice in the clean DataFrame.\n",
    "mouse_num = len(clean_data['Mouse ID'].unique())\n",
    "print(f\"Number of mice: {mouse_num}\")"
   ]
  },
  {
   "cell_type": "markdown",
   "metadata": {},
   "source": [
    "## Summary Statistics"
   ]
  },
  {
   "cell_type": "code",
   "execution_count": 7,
   "metadata": {},
   "outputs": [
    {
     "data": {
      "text/html": [
       "<style  type=\"text/css\" >\n",
       "</style><table id=\"T_a5e24_\" ><thead>    <tr>        <th class=\"blank level0\" ></th>        <th class=\"col_heading level0 col0\" >Mean</th>        <th class=\"col_heading level0 col1\" >Median</th>        <th class=\"col_heading level0 col2\" >Variance</th>        <th class=\"col_heading level0 col3\" >Std Dev</th>        <th class=\"col_heading level0 col4\" >SEM</th>    </tr>    <tr>        <th class=\"index_name level0\" >Drug Regimen</th>        <th class=\"blank\" ></th>        <th class=\"blank\" ></th>        <th class=\"blank\" ></th>        <th class=\"blank\" ></th>        <th class=\"blank\" ></th>    </tr></thead><tbody>\n",
       "                <tr>\n",
       "                        <th id=\"T_a5e24_level0_row0\" class=\"row_heading level0 row0\" >Capomulin</th>\n",
       "                        <td id=\"T_a5e24_row0_col0\" class=\"data row0 col0\" >40.6757</td>\n",
       "                        <td id=\"T_a5e24_row0_col1\" class=\"data row0 col1\" >41.5578</td>\n",
       "                        <td id=\"T_a5e24_row0_col2\" class=\"data row0 col2\" >24.9478</td>\n",
       "                        <td id=\"T_a5e24_row0_col3\" class=\"data row0 col3\" >4.9948</td>\n",
       "                        <td id=\"T_a5e24_row0_col4\" class=\"data row0 col4\" >0.3293</td>\n",
       "            </tr>\n",
       "            <tr>\n",
       "                        <th id=\"T_a5e24_level0_row1\" class=\"row_heading level0 row1\" >Ceftamin</th>\n",
       "                        <td id=\"T_a5e24_row1_col0\" class=\"data row1 col0\" >52.5912</td>\n",
       "                        <td id=\"T_a5e24_row1_col1\" class=\"data row1 col1\" >51.7762</td>\n",
       "                        <td id=\"T_a5e24_row1_col2\" class=\"data row1 col2\" >39.2902</td>\n",
       "                        <td id=\"T_a5e24_row1_col3\" class=\"data row1 col3\" >6.2682</td>\n",
       "                        <td id=\"T_a5e24_row1_col4\" class=\"data row1 col4\" >0.4698</td>\n",
       "            </tr>\n",
       "            <tr>\n",
       "                        <th id=\"T_a5e24_level0_row2\" class=\"row_heading level0 row2\" >Infubinol</th>\n",
       "                        <td id=\"T_a5e24_row2_col0\" class=\"data row2 col0\" >52.8848</td>\n",
       "                        <td id=\"T_a5e24_row2_col1\" class=\"data row2 col1\" >51.8206</td>\n",
       "                        <td id=\"T_a5e24_row2_col2\" class=\"data row2 col2\" >43.1287</td>\n",
       "                        <td id=\"T_a5e24_row2_col3\" class=\"data row2 col3\" >6.5672</td>\n",
       "                        <td id=\"T_a5e24_row2_col4\" class=\"data row2 col4\" >0.4922</td>\n",
       "            </tr>\n",
       "            <tr>\n",
       "                        <th id=\"T_a5e24_level0_row3\" class=\"row_heading level0 row3\" >Ketapril</th>\n",
       "                        <td id=\"T_a5e24_row3_col0\" class=\"data row3 col0\" >55.2356</td>\n",
       "                        <td id=\"T_a5e24_row3_col1\" class=\"data row3 col1\" >53.6987</td>\n",
       "                        <td id=\"T_a5e24_row3_col2\" class=\"data row3 col2\" >68.5536</td>\n",
       "                        <td id=\"T_a5e24_row3_col3\" class=\"data row3 col3\" >8.2797</td>\n",
       "                        <td id=\"T_a5e24_row3_col4\" class=\"data row3 col4\" >0.6039</td>\n",
       "            </tr>\n",
       "            <tr>\n",
       "                        <th id=\"T_a5e24_level0_row4\" class=\"row_heading level0 row4\" >Naftisol</th>\n",
       "                        <td id=\"T_a5e24_row4_col0\" class=\"data row4 col0\" >54.3316</td>\n",
       "                        <td id=\"T_a5e24_row4_col1\" class=\"data row4 col1\" >52.5093</td>\n",
       "                        <td id=\"T_a5e24_row4_col2\" class=\"data row4 col2\" >66.1735</td>\n",
       "                        <td id=\"T_a5e24_row4_col3\" class=\"data row4 col3\" >8.1347</td>\n",
       "                        <td id=\"T_a5e24_row4_col4\" class=\"data row4 col4\" >0.5965</td>\n",
       "            </tr>\n",
       "            <tr>\n",
       "                        <th id=\"T_a5e24_level0_row5\" class=\"row_heading level0 row5\" >Placebo</th>\n",
       "                        <td id=\"T_a5e24_row5_col0\" class=\"data row5 col0\" >54.0336</td>\n",
       "                        <td id=\"T_a5e24_row5_col1\" class=\"data row5 col1\" >52.2889</td>\n",
       "                        <td id=\"T_a5e24_row5_col2\" class=\"data row5 col2\" >61.1681</td>\n",
       "                        <td id=\"T_a5e24_row5_col3\" class=\"data row5 col3\" >7.8210</td>\n",
       "                        <td id=\"T_a5e24_row5_col4\" class=\"data row5 col4\" >0.5813</td>\n",
       "            </tr>\n",
       "            <tr>\n",
       "                        <th id=\"T_a5e24_level0_row6\" class=\"row_heading level0 row6\" >Propriva</th>\n",
       "                        <td id=\"T_a5e24_row6_col0\" class=\"data row6 col0\" >52.3935</td>\n",
       "                        <td id=\"T_a5e24_row6_col1\" class=\"data row6 col1\" >50.9100</td>\n",
       "                        <td id=\"T_a5e24_row6_col2\" class=\"data row6 col2\" >43.1388</td>\n",
       "                        <td id=\"T_a5e24_row6_col3\" class=\"data row6 col3\" >6.5680</td>\n",
       "                        <td id=\"T_a5e24_row6_col4\" class=\"data row6 col4\" >0.5259</td>\n",
       "            </tr>\n",
       "            <tr>\n",
       "                        <th id=\"T_a5e24_level0_row7\" class=\"row_heading level0 row7\" >Ramicane</th>\n",
       "                        <td id=\"T_a5e24_row7_col0\" class=\"data row7 col0\" >40.2167</td>\n",
       "                        <td id=\"T_a5e24_row7_col1\" class=\"data row7 col1\" >40.6732</td>\n",
       "                        <td id=\"T_a5e24_row7_col2\" class=\"data row7 col2\" >23.4867</td>\n",
       "                        <td id=\"T_a5e24_row7_col3\" class=\"data row7 col3\" >4.8463</td>\n",
       "                        <td id=\"T_a5e24_row7_col4\" class=\"data row7 col4\" >0.3210</td>\n",
       "            </tr>\n",
       "            <tr>\n",
       "                        <th id=\"T_a5e24_level0_row8\" class=\"row_heading level0 row8\" >Stelasyn</th>\n",
       "                        <td id=\"T_a5e24_row8_col0\" class=\"data row8 col0\" >54.2331</td>\n",
       "                        <td id=\"T_a5e24_row8_col1\" class=\"data row8 col1\" >52.4317</td>\n",
       "                        <td id=\"T_a5e24_row8_col2\" class=\"data row8 col2\" >59.4506</td>\n",
       "                        <td id=\"T_a5e24_row8_col3\" class=\"data row8 col3\" >7.7104</td>\n",
       "                        <td id=\"T_a5e24_row8_col4\" class=\"data row8 col4\" >0.5731</td>\n",
       "            </tr>\n",
       "            <tr>\n",
       "                        <th id=\"T_a5e24_level0_row9\" class=\"row_heading level0 row9\" >Zoniferol</th>\n",
       "                        <td id=\"T_a5e24_row9_col0\" class=\"data row9 col0\" >53.2365</td>\n",
       "                        <td id=\"T_a5e24_row9_col1\" class=\"data row9 col1\" >51.8185</td>\n",
       "                        <td id=\"T_a5e24_row9_col2\" class=\"data row9 col2\" >48.5334</td>\n",
       "                        <td id=\"T_a5e24_row9_col3\" class=\"data row9 col3\" >6.9666</td>\n",
       "                        <td id=\"T_a5e24_row9_col4\" class=\"data row9 col4\" >0.5164</td>\n",
       "            </tr>\n",
       "    </tbody></table>"
      ],
      "text/plain": [
       "<pandas.io.formats.style.Styler at 0x28f5c3d0040>"
      ]
     },
     "execution_count": 7,
     "metadata": {},
     "output_type": "execute_result"
    }
   ],
   "source": [
    "# Generate a summary statistics table of mean, median, variance, standard deviation, and SEM of the tumor volume for each regimen\n",
    "\n",
    "# Use groupby and summary statistical methods to calculate the following properties of each drug regimen: \n",
    "# mean, median, variance, standard deviation, and SEM of the tumor volume.\n",
    "tumor_vol_mean = clean_data.groupby('Drug Regimen').mean()['Tumor Volume (mm3)']\n",
    "tumor_vol_median = clean_data.groupby('Drug Regimen').median()['Tumor Volume (mm3)']\n",
    "tumor_vol_var = clean_data.groupby('Drug Regimen').var()['Tumor Volume (mm3)']\n",
    "tumor_vol_std = clean_data.groupby('Drug Regimen').std()['Tumor Volume (mm3)']\n",
    "tumor_vol_sem = clean_data.groupby('Drug Regimen').sem()['Tumor Volume (mm3)']\n",
    "\n",
    "# Assemble the resulting series into a single summary dataframe.\n",
    "summary_df = pd.DataFrame(data={\n",
    "    \"Mean\": tumor_vol_mean,\n",
    "    \"Median\": tumor_vol_median,\n",
    "    \"Variance\": tumor_vol_var,\n",
    "    \"Std Dev\": tumor_vol_std,\n",
    "    \"SEM\": tumor_vol_sem\n",
    "})\n",
    "\n",
    "## Display Summary Statistics (with format)\n",
    "summary_df.style.format('{:.4f}')"
   ]
  },
  {
   "cell_type": "code",
   "execution_count": 8,
   "metadata": {},
   "outputs": [
    {
     "data": {
      "text/html": [
       "<style  type=\"text/css\" >\n",
       "</style><table id=\"T_cec95_\" ><thead>    <tr>        <th class=\"blank level0\" ></th>        <th class=\"col_heading level0 col0\" colspan=\"5\">Tumor Volume (mm3)</th>    </tr>    <tr>        <th class=\"blank level1\" ></th>        <th class=\"col_heading level1 col0\" >mean</th>        <th class=\"col_heading level1 col1\" >median</th>        <th class=\"col_heading level1 col2\" >var</th>        <th class=\"col_heading level1 col3\" >std</th>        <th class=\"col_heading level1 col4\" >sem</th>    </tr>    <tr>        <th class=\"index_name level0\" >Drug Regimen</th>        <th class=\"blank\" ></th>        <th class=\"blank\" ></th>        <th class=\"blank\" ></th>        <th class=\"blank\" ></th>        <th class=\"blank\" ></th>    </tr></thead><tbody>\n",
       "                <tr>\n",
       "                        <th id=\"T_cec95_level0_row0\" class=\"row_heading level0 row0\" >Capomulin</th>\n",
       "                        <td id=\"T_cec95_row0_col0\" class=\"data row0 col0\" >40.6757</td>\n",
       "                        <td id=\"T_cec95_row0_col1\" class=\"data row0 col1\" >41.5578</td>\n",
       "                        <td id=\"T_cec95_row0_col2\" class=\"data row0 col2\" >24.9478</td>\n",
       "                        <td id=\"T_cec95_row0_col3\" class=\"data row0 col3\" >4.9948</td>\n",
       "                        <td id=\"T_cec95_row0_col4\" class=\"data row0 col4\" >0.3293</td>\n",
       "            </tr>\n",
       "            <tr>\n",
       "                        <th id=\"T_cec95_level0_row1\" class=\"row_heading level0 row1\" >Ceftamin</th>\n",
       "                        <td id=\"T_cec95_row1_col0\" class=\"data row1 col0\" >52.5912</td>\n",
       "                        <td id=\"T_cec95_row1_col1\" class=\"data row1 col1\" >51.7762</td>\n",
       "                        <td id=\"T_cec95_row1_col2\" class=\"data row1 col2\" >39.2902</td>\n",
       "                        <td id=\"T_cec95_row1_col3\" class=\"data row1 col3\" >6.2682</td>\n",
       "                        <td id=\"T_cec95_row1_col4\" class=\"data row1 col4\" >0.4698</td>\n",
       "            </tr>\n",
       "            <tr>\n",
       "                        <th id=\"T_cec95_level0_row2\" class=\"row_heading level0 row2\" >Infubinol</th>\n",
       "                        <td id=\"T_cec95_row2_col0\" class=\"data row2 col0\" >52.8848</td>\n",
       "                        <td id=\"T_cec95_row2_col1\" class=\"data row2 col1\" >51.8206</td>\n",
       "                        <td id=\"T_cec95_row2_col2\" class=\"data row2 col2\" >43.1287</td>\n",
       "                        <td id=\"T_cec95_row2_col3\" class=\"data row2 col3\" >6.5672</td>\n",
       "                        <td id=\"T_cec95_row2_col4\" class=\"data row2 col4\" >0.4922</td>\n",
       "            </tr>\n",
       "            <tr>\n",
       "                        <th id=\"T_cec95_level0_row3\" class=\"row_heading level0 row3\" >Ketapril</th>\n",
       "                        <td id=\"T_cec95_row3_col0\" class=\"data row3 col0\" >55.2356</td>\n",
       "                        <td id=\"T_cec95_row3_col1\" class=\"data row3 col1\" >53.6987</td>\n",
       "                        <td id=\"T_cec95_row3_col2\" class=\"data row3 col2\" >68.5536</td>\n",
       "                        <td id=\"T_cec95_row3_col3\" class=\"data row3 col3\" >8.2797</td>\n",
       "                        <td id=\"T_cec95_row3_col4\" class=\"data row3 col4\" >0.6039</td>\n",
       "            </tr>\n",
       "            <tr>\n",
       "                        <th id=\"T_cec95_level0_row4\" class=\"row_heading level0 row4\" >Naftisol</th>\n",
       "                        <td id=\"T_cec95_row4_col0\" class=\"data row4 col0\" >54.3316</td>\n",
       "                        <td id=\"T_cec95_row4_col1\" class=\"data row4 col1\" >52.5093</td>\n",
       "                        <td id=\"T_cec95_row4_col2\" class=\"data row4 col2\" >66.1735</td>\n",
       "                        <td id=\"T_cec95_row4_col3\" class=\"data row4 col3\" >8.1347</td>\n",
       "                        <td id=\"T_cec95_row4_col4\" class=\"data row4 col4\" >0.5965</td>\n",
       "            </tr>\n",
       "            <tr>\n",
       "                        <th id=\"T_cec95_level0_row5\" class=\"row_heading level0 row5\" >Placebo</th>\n",
       "                        <td id=\"T_cec95_row5_col0\" class=\"data row5 col0\" >54.0336</td>\n",
       "                        <td id=\"T_cec95_row5_col1\" class=\"data row5 col1\" >52.2889</td>\n",
       "                        <td id=\"T_cec95_row5_col2\" class=\"data row5 col2\" >61.1681</td>\n",
       "                        <td id=\"T_cec95_row5_col3\" class=\"data row5 col3\" >7.8210</td>\n",
       "                        <td id=\"T_cec95_row5_col4\" class=\"data row5 col4\" >0.5813</td>\n",
       "            </tr>\n",
       "            <tr>\n",
       "                        <th id=\"T_cec95_level0_row6\" class=\"row_heading level0 row6\" >Propriva</th>\n",
       "                        <td id=\"T_cec95_row6_col0\" class=\"data row6 col0\" >52.3935</td>\n",
       "                        <td id=\"T_cec95_row6_col1\" class=\"data row6 col1\" >50.9100</td>\n",
       "                        <td id=\"T_cec95_row6_col2\" class=\"data row6 col2\" >43.1388</td>\n",
       "                        <td id=\"T_cec95_row6_col3\" class=\"data row6 col3\" >6.5680</td>\n",
       "                        <td id=\"T_cec95_row6_col4\" class=\"data row6 col4\" >0.5259</td>\n",
       "            </tr>\n",
       "            <tr>\n",
       "                        <th id=\"T_cec95_level0_row7\" class=\"row_heading level0 row7\" >Ramicane</th>\n",
       "                        <td id=\"T_cec95_row7_col0\" class=\"data row7 col0\" >40.2167</td>\n",
       "                        <td id=\"T_cec95_row7_col1\" class=\"data row7 col1\" >40.6732</td>\n",
       "                        <td id=\"T_cec95_row7_col2\" class=\"data row7 col2\" >23.4867</td>\n",
       "                        <td id=\"T_cec95_row7_col3\" class=\"data row7 col3\" >4.8463</td>\n",
       "                        <td id=\"T_cec95_row7_col4\" class=\"data row7 col4\" >0.3210</td>\n",
       "            </tr>\n",
       "            <tr>\n",
       "                        <th id=\"T_cec95_level0_row8\" class=\"row_heading level0 row8\" >Stelasyn</th>\n",
       "                        <td id=\"T_cec95_row8_col0\" class=\"data row8 col0\" >54.2331</td>\n",
       "                        <td id=\"T_cec95_row8_col1\" class=\"data row8 col1\" >52.4317</td>\n",
       "                        <td id=\"T_cec95_row8_col2\" class=\"data row8 col2\" >59.4506</td>\n",
       "                        <td id=\"T_cec95_row8_col3\" class=\"data row8 col3\" >7.7104</td>\n",
       "                        <td id=\"T_cec95_row8_col4\" class=\"data row8 col4\" >0.5731</td>\n",
       "            </tr>\n",
       "            <tr>\n",
       "                        <th id=\"T_cec95_level0_row9\" class=\"row_heading level0 row9\" >Zoniferol</th>\n",
       "                        <td id=\"T_cec95_row9_col0\" class=\"data row9 col0\" >53.2365</td>\n",
       "                        <td id=\"T_cec95_row9_col1\" class=\"data row9 col1\" >51.8185</td>\n",
       "                        <td id=\"T_cec95_row9_col2\" class=\"data row9 col2\" >48.5334</td>\n",
       "                        <td id=\"T_cec95_row9_col3\" class=\"data row9 col3\" >6.9666</td>\n",
       "                        <td id=\"T_cec95_row9_col4\" class=\"data row9 col4\" >0.5164</td>\n",
       "            </tr>\n",
       "    </tbody></table>"
      ],
      "text/plain": [
       "<pandas.io.formats.style.Styler at 0x28f5c366ee0>"
      ]
     },
     "execution_count": 8,
     "metadata": {},
     "output_type": "execute_result"
    }
   ],
   "source": [
    "# Generate a summary statistics table of mean, median, variance, standard deviation, and SEM of the tumor volume for each regimen\n",
    "\n",
    "# Using the aggregation method, produce the same summary statistics in a single line\n",
    "clean_data.groupby('Drug Regimen').agg({'Tumor Volume (mm3)': ['mean', 'median', 'var', 'std', 'sem']}).style.format('{:.4f}')"
   ]
  },
  {
   "cell_type": "markdown",
   "metadata": {},
   "source": [
    "## Bar and Pie Charts"
   ]
  },
  {
   "cell_type": "code",
   "execution_count": 9,
   "metadata": {},
   "outputs": [
    {
     "data": {
      "image/png": "[encoded data removed]",
      "text/plain": [
       "<Figure size 432x288 with 1 Axes>"
      ]
     },
     "metadata": {
      "needs_background": "light"
     },
     "output_type": "display_data"
    }
   ],
   "source": [
    "# Generate a bar plot showing the total number of measurements taken on each drug regimen using pandas.\n",
    "pd.DataFrame(clean_data['Drug Regimen'].value_counts()).plot(kind='bar', color='green', alpha=0.5)\n",
    "\n",
    "# Give the chart a title, x label, and y label\n",
    "plt.title(\"Measurements per Drug Regimen\")\n",
    "plt.xlabel(\"Drug Regimen\")\n",
    "plt.ylabel(\"Number of Measurements\")\n",
    "\n",
    "plt.show()"
   ]
  },
  {
   "cell_type": "code",
   "execution_count": 10,
   "metadata": {},
   "outputs": [
    {
     "data": {
      "image/png": "[encoded data removed]",
      "text/plain": [
       "<Figure size 432x288 with 1 Axes>"
      ]
     },
     "metadata": {
      "needs_background": "light"
     },
     "output_type": "display_data"
    }
   ],
   "source": [
    "# Generate a bar plot showing the total number of measurements taken on each drug regimen using pyplot.\n",
    "regime_counts = clean_data['Drug Regimen'].value_counts()\n",
    "\n",
    "drug_regimen = regime_counts.index\n",
    "measurements_num = regime_counts.values\n",
    "labels = [regime_counts.name]\n",
    "\n",
    "# Set x_axis properties\n",
    "x_axis = range(len(drug_regimen))\n",
    "tick_locations = [value for value in x_axis]\n",
    "plt.xticks(tick_locations, drug_regimen, rotation=90)\n",
    "\n",
    "# Set the limits of the x axis\n",
    "plt.xlim(-0.5, len(x_axis)-0.5)\n",
    "\n",
    "# Set the limits of the y axis\n",
    "plt.ylim(0, max(measurements_num)+10)\n",
    "\n",
    "# Give the chart a title, x label, and y label\n",
    "plt.title(\"Measurements per Drug Regimen\")\n",
    "plt.xlabel(\"Drug Regimen\")\n",
    "plt.ylabel(\"Number of Measurements\")\n",
    "\n",
    "plt.bar(drug_regimen, measurements_num, color='green', alpha=0.5, align='center', width=0.5)\n",
    "\n",
    "plt.legend(labels, loc='upper right')\n",
    "plt.show()"
   ]
  },
  {
   "cell_type": "code",
   "execution_count": 11,
   "metadata": {},
   "outputs": [
    {
     "data": {
      "text/plain": [
       "Index(['Male', 'Female'], dtype='object')"
      ]
     },
     "execution_count": 11,
     "metadata": {},
     "output_type": "execute_result"
    }
   ],
   "source": [
    "pd.DataFrame(clean_data['Sex'].value_counts()).index"
   ]
  },
  {
   "cell_type": "code",
   "execution_count": 12,
   "metadata": {},
   "outputs": [
    {
     "data": {
      "image/png": "[encoded data removed]",
      "text/plain": [
       "<Figure size 432x288 with 1 Axes>"
      ]
     },
     "metadata": {},
     "output_type": "display_data"
    }
   ],
   "source": [
    "# Generate a pie plot showing the distribution of female versus male mice using pandas\n",
    "\n",
    "pd.DataFrame(clean_data['Sex'].value_counts()).plot(kind='pie', y='Sex', explode=(.01,.01), autopct='%1.1f%%', startangle=90)\n",
    "\n",
    "# Give the chart a title, and y label\n",
    "plt.title(\"Mice Gender Distribution\")\n",
    "plt.ylabel('')\n",
    "\n",
    "# Create axes which are equal so we have a perfect circle\n",
    "plt.axis(\"equal\")\n",
    "\n",
    "plt.show()"
   ]
  },
  {
   "cell_type": "code",
   "execution_count": 13,
   "metadata": {},
   "outputs": [
    {
     "data": {
      "image/png": "[encoded data removed]",
      "text/plain": [
       "<Figure size 432x288 with 1 Axes>"
      ]
     },
     "metadata": {},
     "output_type": "display_data"
    }
   ],
   "source": [
    "# Generate a pie plot showing the distribution of female versus male mice using pyplot\n",
    "sex_counts = clean_data['Sex'].value_counts()\n",
    "\n",
    "labels = [item for item in sex_counts.index]\n",
    "explode = [0.01, 0.01]\n",
    "\n",
    "plt.pie(sex_counts.values, explode=explode, labels=labels, autopct='%1.1f%%', shadow=False, startangle=90)\n",
    "\n",
    "# Give the chart a title, x label, and y label\n",
    "plt.title(\"Mice Gender Distribution\")\n",
    "\n",
    "# Create axes which are equal so we have a perfect circle\n",
    "plt.axis('equal')\n",
    "\n",
    "plt.legend(labels, loc='upper right')\n",
    "plt.show()"
   ]
  },
  {
   "cell_type": "markdown",
   "metadata": {},
   "source": [
    "## Quartiles, Outliers and Boxplots"
   ]
  },
  {
   "cell_type": "code",
   "execution_count": 14,
   "metadata": {},
   "outputs": [
    {
     "data": {
      "text/html": [
       "<div>\n",
       "<style scoped>\n",
       "    .dataframe tbody tr th:only-of-type {\n",
       "        vertical-align: middle;\n",
       "    }\n",
       "\n",
       "    .dataframe tbody tr th {\n",
       "        vertical-align: top;\n",
       "    }\n",
       "\n",
       "    .dataframe thead th {\n",
       "        text-align: right;\n",
       "    }\n",
       "</style>\n",
       "<table border=\"1\" class=\"dataframe\">\n",
       "  <thead>\n",
       "    <tr style=\"text-align: right;\">\n",
       "      <th></th>\n",
       "      <th>Mouse ID</th>\n",
       "      <th>Timepoint</th>\n",
       "      <th>Tumor Volume (mm3)</th>\n",
       "      <th>Metastatic Sites</th>\n",
       "      <th>Drug Regimen</th>\n",
       "      <th>Sex</th>\n",
       "      <th>Age_months</th>\n",
       "      <th>Weight (g)</th>\n",
       "    </tr>\n",
       "  </thead>\n",
       "  <tbody>\n",
       "    <tr>\n",
       "      <th>0</th>\n",
       "      <td>a203</td>\n",
       "      <td>45</td>\n",
       "      <td>67.973419</td>\n",
       "      <td>2</td>\n",
       "      <td>Infubinol</td>\n",
       "      <td>Female</td>\n",
       "      <td>20</td>\n",
       "      <td>23</td>\n",
       "    </tr>\n",
       "    <tr>\n",
       "      <th>1</th>\n",
       "      <td>a251</td>\n",
       "      <td>45</td>\n",
       "      <td>65.525743</td>\n",
       "      <td>1</td>\n",
       "      <td>Infubinol</td>\n",
       "      <td>Female</td>\n",
       "      <td>21</td>\n",
       "      <td>25</td>\n",
       "    </tr>\n",
       "    <tr>\n",
       "      <th>2</th>\n",
       "      <td>a262</td>\n",
       "      <td>45</td>\n",
       "      <td>70.717621</td>\n",
       "      <td>4</td>\n",
       "      <td>Placebo</td>\n",
       "      <td>Female</td>\n",
       "      <td>17</td>\n",
       "      <td>29</td>\n",
       "    </tr>\n",
       "    <tr>\n",
       "      <th>3</th>\n",
       "      <td>a275</td>\n",
       "      <td>45</td>\n",
       "      <td>62.999356</td>\n",
       "      <td>3</td>\n",
       "      <td>Ceftamin</td>\n",
       "      <td>Female</td>\n",
       "      <td>20</td>\n",
       "      <td>28</td>\n",
       "    </tr>\n",
       "    <tr>\n",
       "      <th>4</th>\n",
       "      <td>a366</td>\n",
       "      <td>30</td>\n",
       "      <td>63.440686</td>\n",
       "      <td>1</td>\n",
       "      <td>Stelasyn</td>\n",
       "      <td>Female</td>\n",
       "      <td>16</td>\n",
       "      <td>29</td>\n",
       "    </tr>\n",
       "  </tbody>\n",
       "</table>\n",
       "</div>"
      ],
      "text/plain": [
       "  Mouse ID  Timepoint  Tumor Volume (mm3)  Metastatic Sites Drug Regimen  \\\n",
       "0     a203         45           67.973419                 2    Infubinol   \n",
       "1     a251         45           65.525743                 1    Infubinol   \n",
       "2     a262         45           70.717621                 4      Placebo   \n",
       "3     a275         45           62.999356                 3     Ceftamin   \n",
       "4     a366         30           63.440686                 1     Stelasyn   \n",
       "\n",
       "      Sex  Age_months  Weight (g)  \n",
       "0  Female          20          23  \n",
       "1  Female          21          25  \n",
       "2  Female          17          29  \n",
       "3  Female          20          28  \n",
       "4  Female          16          29  "
      ]
     },
     "execution_count": 14,
     "metadata": {},
     "output_type": "execute_result"
    }
   ],
   "source": [
    "# Calculate the final tumor volume of each mouse across four of the treatment regimens:  \n",
    "# Capomulin, Ramicane, Infubinol, and Ceftamin\n",
    "\n",
    "# Start by getting the last (greatest) timepoint for each mouse\n",
    "final_tumor_vol = pd.DataFrame(clean_data.groupby('Mouse ID').max()['Timepoint'])\n",
    "\n",
    "# Merge this group df with the original dataframe to get the tumor volume at the last timepoint\n",
    "final_tumor_vol = final_tumor_vol.merge(clean_data, how='left', on=['Mouse ID', 'Timepoint'])\n",
    "\n",
    "## Display Final Tumor Volume DataFrame (preview)\n",
    "final_tumor_vol.head()"
   ]
  },
  {
   "cell_type": "code",
   "execution_count": 15,
   "metadata": {},
   "outputs": [
    {
     "data": {
      "text/html": [
       "<div>\n",
       "<style scoped>\n",
       "    .dataframe tbody tr th:only-of-type {\n",
       "        vertical-align: middle;\n",
       "    }\n",
       "\n",
       "    .dataframe tbody tr th {\n",
       "        vertical-align: top;\n",
       "    }\n",
       "\n",
       "    .dataframe thead th {\n",
       "        text-align: right;\n",
       "    }\n",
       "</style>\n",
       "<table border=\"1\" class=\"dataframe\">\n",
       "  <thead>\n",
       "    <tr style=\"text-align: right;\">\n",
       "      <th></th>\n",
       "      <th>Capomulin</th>\n",
       "      <th>Ramicane</th>\n",
       "      <th>Infubinol</th>\n",
       "      <th>Ceftamin</th>\n",
       "    </tr>\n",
       "  </thead>\n",
       "  <tbody>\n",
       "    <tr>\n",
       "      <th>Upper Quartile</th>\n",
       "      <td>40.1592</td>\n",
       "      <td>40.659</td>\n",
       "      <td>65.5257</td>\n",
       "      <td>64.2998</td>\n",
       "    </tr>\n",
       "    <tr>\n",
       "      <th>Median</th>\n",
       "      <td>38.1252</td>\n",
       "      <td>36.5617</td>\n",
       "      <td>60.1652</td>\n",
       "      <td>59.852</td>\n",
       "    </tr>\n",
       "    <tr>\n",
       "      <th>Lower Quartile</th>\n",
       "      <td>32.3774</td>\n",
       "      <td>31.5605</td>\n",
       "      <td>54.0486</td>\n",
       "      <td>48.7221</td>\n",
       "    </tr>\n",
       "    <tr>\n",
       "      <th>IQR</th>\n",
       "      <td>7.7819</td>\n",
       "      <td>9.0985</td>\n",
       "      <td>11.4771</td>\n",
       "      <td>15.5778</td>\n",
       "    </tr>\n",
       "    <tr>\n",
       "      <th>Upper Bound</th>\n",
       "      <td>51.832</td>\n",
       "      <td>54.3068</td>\n",
       "      <td>82.7414</td>\n",
       "      <td>87.6665</td>\n",
       "    </tr>\n",
       "    <tr>\n",
       "      <th>Lower Bound</th>\n",
       "      <td>20.7046</td>\n",
       "      <td>17.9127</td>\n",
       "      <td>36.8329</td>\n",
       "      <td>25.3554</td>\n",
       "    </tr>\n",
       "    <tr>\n",
       "      <th>Potential Outliers</th>\n",
       "      <td>0</td>\n",
       "      <td>0</td>\n",
       "      <td>1</td>\n",
       "      <td>0</td>\n",
       "    </tr>\n",
       "  </tbody>\n",
       "</table>\n",
       "</div>"
      ],
      "text/plain": [
       "                   Capomulin Ramicane Infubinol Ceftamin\n",
       "Upper Quartile       40.1592   40.659   65.5257  64.2998\n",
       "Median               38.1252  36.5617   60.1652   59.852\n",
       "Lower Quartile       32.3774  31.5605   54.0486  48.7221\n",
       "IQR                   7.7819   9.0985   11.4771  15.5778\n",
       "Upper Bound           51.832  54.3068   82.7414  87.6665\n",
       "Lower Bound          20.7046  17.9127   36.8329  25.3554\n",
       "Potential Outliers         0        0         1        0"
      ]
     },
     "execution_count": 15,
     "metadata": {},
     "output_type": "execute_result"
    }
   ],
   "source": [
    "# Put treatments into a list for for loop (and later for plot labels)\n",
    "treatments = [\"Capomulin\", \"Ramicane\", \"Infubinol\", \"Ceftamin\"]\n",
    "\n",
    "# Create empty list to fill with tumor vol data (for plotting)\n",
    "tumor_vol_data = []\n",
    "\n",
    "## Create empty dictionary to fill with treatment (key) and outliers (value)\n",
    "outliers_dict = {}\n",
    "\n",
    "## Build Final Tumor Volume Outliers Summary DataFrame\n",
    "data_distribution = pd.DataFrame(index=[\n",
    "    \"Upper Quartile\",\n",
    "    \"Median\",\n",
    "    \"Lower Quartile\",\n",
    "    \"IQR\",\n",
    "    \"Upper Bound\", \n",
    "    \"Lower Bound\",\n",
    "    \"Potential Outliers\"\n",
    "])\n",
    "\n",
    "## Loop through Final Tumor Volume data\n",
    "for i in range(len(treatments)):\n",
    "    \n",
    "    ## Get Final Tumor Volume for each Treatment\n",
    "    tumor_vol_data.append(final_tumor_vol['Tumor Volume (mm3)'].loc[final_tumor_vol['Drug Regimen'] == treatments[i]])\n",
    "\n",
    "    ## Compute Quartiles\n",
    "    (upperq, median, lowerq) = tumor_vol_data[i].quantile([0.75, 0.5, 0.25])\n",
    "    ## Compute Interquartile Range (IQR)\n",
    "    iqr = upperq - lowerq\n",
    "    ## Compute Upper & Lower boundaries\n",
    "    upper_bound = upperq + (1.5*iqr)\n",
    "    lower_bound = lowerq - (1.5*iqr)\n",
    "    ## Determine outliers (using upper & lower boundaries)\n",
    "    outliers = [round(value, 4) for value in tumor_vol_data[i].values if (value < lower_bound) or (value > upper_bound)]\n",
    "    \n",
    "    ## Store distribution data for each Treatment into (formatted) DataFrame\n",
    "    data_distribution[treatments[i]] = ([\n",
    "        round(upperq, 4),\n",
    "        round(median, 4),\n",
    "        round(lowerq, 4),\n",
    "        round(iqr, 4),\n",
    "        round(upper_bound, 4),\n",
    "        round(lower_bound, 4),\n",
    "        str(len(outliers))\n",
    "    ])\n",
    "\n",
    "    ## Store potential outliers into dictionary (in case potential outliers are found)\n",
    "    if len(outliers) != 0:\n",
    "        outliers_dict[treatments[i]] = outliers\n",
    "    \n",
    "## Display Distribution Summary\n",
    "data_distribution"
   ]
  },
  {
   "cell_type": "code",
   "execution_count": 16,
   "metadata": {},
   "outputs": [
    {
     "name": "stdout",
     "output_type": "stream",
     "text": [
      "Infubinol potential outliers: [36.3213]\n"
     ]
    }
   ],
   "source": [
    "## If potential outliers were found, print treatment (key) and potential outliers (value)\n",
    "if len(outliers_dict) != 0:\n",
    "    for key, value in outliers_dict.items():\n",
    "        print(f\"{key} potential outliers: {value}\")"
   ]
  },
  {
   "cell_type": "code",
   "execution_count": 17,
   "metadata": {},
   "outputs": [
    {
     "data": {
      "image/png": "[encoded data removed]",
      "text/plain": [
       "<Figure size 432x288 with 1 Axes>"
      ]
     },
     "metadata": {
      "needs_background": "light"
     },
     "output_type": "display_data"
    }
   ],
   "source": [
    "# Generate a box plot of the final tumor volume of each mouse across four regimens of interest\n",
    "data = [list for list in tumor_vol_data]\n",
    "red_diamond = dict(markerfacecolor='r', marker='D')\n",
    "\n",
    "# plt.patch.set_facecolor('red','blue','green','orange')\n",
    "\n",
    "plt.boxplot(data, patch_artist=True, flierprops=red_diamond)\n",
    "plt.show()"
   ]
  },
  {
   "cell_type": "code",
   "execution_count": null,
   "metadata": {},
   "outputs": [],
   "source": []
  },
  {
   "cell_type": "markdown",
   "metadata": {},
   "source": [
    "## Line and Scatter Plots"
   ]
  },
  {
   "cell_type": "code",
   "execution_count": 18,
   "metadata": {},
   "outputs": [
    {
     "data": {
      "image/png": "[encoded data removed]",
      "text/plain": [
       "<Figure size 432x288 with 1 Axes>"
      ]
     },
     "metadata": {
      "needs_background": "light"
     },
     "output_type": "display_data"
    }
   ],
   "source": [
    "# Generate a line plot of tumor volume vs. time point for a mouse treated with Capomulin\n",
    "treatment = \"Capomulin\"\n",
    "treatment_data = clean_data.loc[clean_data['Drug Regimen'] == treatment][['Mouse ID', 'Timepoint', 'Tumor Volume (mm3)', 'Weight (g)']]\n",
    "\n",
    "## Dependencies\n",
    "import random as rd\n",
    "## Random mouse sample\n",
    "sample_mouse = rd.sample(list(treatment_data['Mouse ID'].unique()) ,1)[0]\n",
    "## Sample mouse data\n",
    "sample_data = treatment_data.loc[treatment_data['Mouse ID'] == sample_mouse]\n",
    "\n",
    "time_values = treatment_data.loc[treatment_data['Mouse ID'] == sample_mouse]['Timepoint']\n",
    "vol_values = treatment_data.loc[treatment_data['Mouse ID'] == sample_mouse]['Tumor Volume (mm3)']\n",
    "\n",
    "plt.plot(time_values, vol_values)\n",
    "# plt.hlines(45, min(time_values), max(time_values), alpha=0.50, color='grey', linestyle='--')\n",
    "\n",
    "plt.show()"
   ]
  },
  {
   "cell_type": "code",
   "execution_count": 19,
   "metadata": {},
   "outputs": [
    {
     "data": {
      "image/png": "[encoded data removed]",
      "text/plain": [
       "<Figure size 432x288 with 1 Axes>"
      ]
     },
     "metadata": {
      "needs_background": "light"
     },
     "output_type": "display_data"
    }
   ],
   "source": [
    "# Generate a scatter plot of average tumor volume vs. mouse weight for the Capomulin regimen\n",
    "x_values = treatment_data.groupby('Mouse ID').mean()['Weight (g)']\n",
    "y_values = treatment_data.groupby('Mouse ID').mean()['Tumor Volume (mm3)']\n",
    "\n",
    "plt.scatter(x_values, y_values)\n",
    "plt.show()"
   ]
  },
  {
   "cell_type": "code",
   "execution_count": null,
   "metadata": {},
   "outputs": [],
   "source": []
  },
  {
   "cell_type": "markdown",
   "metadata": {},
   "source": [
    "## Correlation and Regression"
   ]
  },
  {
   "cell_type": "code",
   "execution_count": 20,
   "metadata": {},
   "outputs": [
    {
     "data": {
      "image/png": "[encoded data removed]",
      "text/plain": [
       "<Figure size 432x288 with 1 Axes>"
      ]
     },
     "metadata": {
      "needs_background": "light"
     },
     "output_type": "display_data"
    },
    {
     "name": "stdout",
     "output_type": "stream",
     "text": [
      "The correlation coefficient between mouse weight and average tumor volume is 0.84\n",
      "The reggression r-squared is: 0.7089\n"
     ]
    }
   ],
   "source": [
    "# Calculate the correlation coefficient and linear regression model \n",
    "# for mouse weight and average tumor volume for the Capomulin regimen\n",
    "\n",
    "(slope, intercept, rvalue, pvalue, stderr) = stats.linregress(x_values, y_values)\n",
    "regress_line_x = (min(x_values), max(x_values))\n",
    "regress_line_y = [min(x_values) * slope + intercept, max(x_values) * slope + intercept]\n",
    "\n",
    "plt.scatter(x_values, y_values)\n",
    "\n",
    "plt.plot(regress_line_x, regress_line_y, '--', color=\"red\")\n",
    "line_eq = \"y = \" + str(round(slope,2)) + \"x + \" + str(round(intercept,2))\n",
    "plt.annotate(line_eq,(20,36),fontsize=15,color=\"red\")\n",
    "\n",
    "plt.show()\n",
    "\n",
    "print(f\"The correlation coefficient between mouse weight and average tumor volume is {round(stats.pearsonr(x_values, y_values)[0],2)}\")\n",
    "print(f\"The reggression r-squared is: {round(rvalue**2, 4)}\")"
   ]
  },
  {
   "cell_type": "code",
   "execution_count": null,
   "metadata": {},
   "outputs": [],
   "source": []
  },
  {
   "cell_type": "code",
   "execution_count": null,
   "metadata": {},
   "outputs": [],
   "source": []
  }
 ],
 "metadata": {
  "anaconda-cloud": {},
  "kernelspec": {
   "display_name": "Python 3",
   "language": "python",
   "name": "python3"
  },
  "language_info": {
   "codemirror_mode": {
    "name": "ipython",
    "version": 3
   },
   "file_extension": ".py",
   "mimetype": "text/x-python",
   "name": "python",
   "nbconvert_exporter": "python",
   "pygments_lexer": "ipython3",
   "version": "3.8.8"
  }
 },
 "nbformat": 4,
 "nbformat_minor": 4
}
